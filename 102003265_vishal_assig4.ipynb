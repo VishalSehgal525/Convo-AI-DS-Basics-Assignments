{
 "cells": [
  {
   "cell_type": "markdown",
   "metadata": {},
   "source": [
    "# Assignment 4 (Conversational AI: DS [Basics])\n",
    "> This assignment is solved by:-\n",
    "* Name: Vishal Sehgal\n",
    "* Group: CO11\n",
    "* Roll Number: 102003265"
   ]
  },
  {
   "cell_type": "markdown",
   "metadata": {},
   "source": [
    "### Question 1"
   ]
  },
  {
   "cell_type": "markdown",
   "metadata": {},
   "source": [
    "> a."
   ]
  },
  {
   "cell_type": "code",
   "execution_count": 1,
   "metadata": {},
   "outputs": [],
   "source": [
    "import numpy as np\n",
    "import pandas as pd"
   ]
  },
  {
   "cell_type": "code",
   "execution_count": 2,
   "metadata": {},
   "outputs": [],
   "source": [
    "data = [['sunny', 85, 85, False, 'no'],\n",
    "        ['sunny', 80, 90, True, 'no'],\n",
    "        ['overcast', 83, 78, False, 'yes'],\n",
    "        ['rain', 70, 96, False, 'yes'],\n",
    "        ['rain', 68, 80, False, 'yes'],\n",
    "        ['rain', 65, 70, True, 'no'],\n",
    "        ['overcast', 64, 65, True, 'yes'],\n",
    "        ['sunny', 72, 95, False, 'no'],\n",
    "        ['sunny', 69, 70, False, 'yes'],\n",
    "        ['rain', 75, 80, False, 'yes'],\n",
    "        ['sunny', 75, 70, True, 'yes'],\n",
    "        ['overcast', 72, 90, True, 'yes'],\n",
    "        ['overcast', 81, 75, False, 'yes'],\n",
    "        ['rain', 71, 80, True, 'no']\n",
    "        ]"
   ]
  },
  {
   "cell_type": "code",
   "execution_count": 3,
   "metadata": {},
   "outputs": [],
   "source": [
    "df = pd.DataFrame(data, columns=['Outlook', 'Temperature', 'Humidity', 'Windy', 'Play'])"
   ]
  },
  {
   "cell_type": "code",
   "execution_count": 4,
   "metadata": {},
   "outputs": [
    {
     "data": {
      "text/html": [
       "<div>\n",
       "<style scoped>\n",
       "    .dataframe tbody tr th:only-of-type {\n",
       "        vertical-align: middle;\n",
       "    }\n",
       "\n",
       "    .dataframe tbody tr th {\n",
       "        vertical-align: top;\n",
       "    }\n",
       "\n",
       "    .dataframe thead th {\n",
       "        text-align: right;\n",
       "    }\n",
       "</style>\n",
       "<table border=\"1\" class=\"dataframe\">\n",
       "  <thead>\n",
       "    <tr style=\"text-align: right;\">\n",
       "      <th></th>\n",
       "      <th>Outlook</th>\n",
       "      <th>Temperature</th>\n",
       "      <th>Humidity</th>\n",
       "      <th>Windy</th>\n",
       "      <th>Play</th>\n",
       "    </tr>\n",
       "  </thead>\n",
       "  <tbody>\n",
       "    <tr>\n",
       "      <th>0</th>\n",
       "      <td>sunny</td>\n",
       "      <td>85</td>\n",
       "      <td>85</td>\n",
       "      <td>False</td>\n",
       "      <td>no</td>\n",
       "    </tr>\n",
       "    <tr>\n",
       "      <th>1</th>\n",
       "      <td>sunny</td>\n",
       "      <td>80</td>\n",
       "      <td>90</td>\n",
       "      <td>True</td>\n",
       "      <td>no</td>\n",
       "    </tr>\n",
       "    <tr>\n",
       "      <th>2</th>\n",
       "      <td>overcast</td>\n",
       "      <td>83</td>\n",
       "      <td>78</td>\n",
       "      <td>False</td>\n",
       "      <td>yes</td>\n",
       "    </tr>\n",
       "    <tr>\n",
       "      <th>3</th>\n",
       "      <td>rain</td>\n",
       "      <td>70</td>\n",
       "      <td>96</td>\n",
       "      <td>False</td>\n",
       "      <td>yes</td>\n",
       "    </tr>\n",
       "    <tr>\n",
       "      <th>4</th>\n",
       "      <td>rain</td>\n",
       "      <td>68</td>\n",
       "      <td>80</td>\n",
       "      <td>False</td>\n",
       "      <td>yes</td>\n",
       "    </tr>\n",
       "  </tbody>\n",
       "</table>\n",
       "</div>"
      ],
      "text/plain": [
       "    Outlook  Temperature  Humidity  Windy Play\n",
       "0     sunny           85        85  False   no\n",
       "1     sunny           80        90   True   no\n",
       "2  overcast           83        78  False  yes\n",
       "3      rain           70        96  False  yes\n",
       "4      rain           68        80  False  yes"
      ]
     },
     "execution_count": 4,
     "metadata": {},
     "output_type": "execute_result"
    }
   ],
   "source": [
    "df.head()"
   ]
  },
  {
   "cell_type": "code",
   "execution_count": 5,
   "metadata": {},
   "outputs": [],
   "source": [
    "df.to_csv('weather.csv', index=False)"
   ]
  },
  {
   "cell_type": "code",
   "execution_count": 6,
   "metadata": {},
   "outputs": [
    {
     "data": {
      "text/plain": [
       "Index(['Outlook', 'Temperature', 'Humidity', 'Windy', 'Play'], dtype='object')"
      ]
     },
     "execution_count": 6,
     "metadata": {},
     "output_type": "execute_result"
    }
   ],
   "source": [
    "df.columns"
   ]
  },
  {
   "cell_type": "code",
   "execution_count": 7,
   "metadata": {},
   "outputs": [],
   "source": [
    "def create_table(df, colname, val):\n",
    "    uniq_val = df[df.columns[-1]].unique()\n",
    "    table = []\n",
    "    for u_val in uniq_val:\n",
    "        sub = []\n",
    "        temp = df[df[colname] <= val]\n",
    "        sub.append(len(temp[temp[temp.columns[-1]]==u_val]))\n",
    "        temp2 = df[df[colname] > val]\n",
    "        sub.append(len(temp2[temp2[temp2.columns[-1]]==u_val]))\n",
    "        table.append(sub)\n",
    "    return table"
   ]
  },
  {
   "cell_type": "code",
   "execution_count": 8,
   "metadata": {},
   "outputs": [],
   "source": [
    "def prob_table(table):\n",
    "    table = table.astype(np.float)\n",
    "    for i in range(len(table)):\n",
    "        s = sum(table[i])\n",
    "        for j in range(len(table[i])):\n",
    "            table[i][j] = table[i][j]/s\n",
    "    return table"
   ]
  },
  {
   "cell_type": "code",
   "execution_count": 9,
   "metadata": {},
   "outputs": [],
   "source": [
    "def ent(df):\n",
    "    val = df.unique()\n",
    "    prob = []\n",
    "    for i in val:\n",
    "        prob.append(len(df[df==i])/len(df))\n",
    "    entropy = 0\n",
    "    for i in range(len(val)):\n",
    "        entropy += -1 * prob[i] * np.log2(prob[i])\n",
    "    return entropy"
   ]
  },
  {
   "cell_type": "code",
   "execution_count": 10,
   "metadata": {},
   "outputs": [],
   "source": [
    "def find_entropy_2(table):\n",
    "    entropy = []\n",
    "    for i in range(len(table)):\n",
    "        e = 0\n",
    "        for j in range(len(table[i])):\n",
    "            e += -1 * table[i][j] * np.log2(table[i][j] + 1e-7)\n",
    "        entropy.append(e)\n",
    "    return entropy"
   ]
  },
  {
   "cell_type": "code",
   "execution_count": 11,
   "metadata": {},
   "outputs": [],
   "source": [
    "def gain_ratio_cnts(df, colname, val):\n",
    "    table = create_table(df, colname, val)\n",
    "    table = np.array(table)\n",
    "    table = table.T\n",
    "    p_table = prob_table(table)\n",
    "    entropy = find_entropy_2(p_table)\n",
    "    avg_info_gain = 0\n",
    "    for i in range(len(table)):\n",
    "        s = sum(table[i])/sum(sum(table))\n",
    "        avg_info_gain += s * entropy[i]\n",
    "    info_gain = ent(df[df.columns[-1]]) - avg_info_gain\n",
    "    split_info = 0\n",
    "    for i in range(len(table)):\n",
    "        s = sum(table[i])/sum(sum(table))\n",
    "        split_info += -1 * s * np.log2(s + 1e-7)\n",
    "    return info_gain/split_info"
   ]
  },
  {
   "cell_type": "code",
   "execution_count": 12,
   "metadata": {},
   "outputs": [],
   "source": [
    "from math import isnan"
   ]
  },
  {
   "cell_type": "code",
   "execution_count": 13,
   "metadata": {},
   "outputs": [],
   "source": [
    "def find_threshold(df, colname):\n",
    "    unq = df[colname].unique()\n",
    "    dict = {}\n",
    "    for i in unq:\n",
    "        s = gain_ratio_cnts(df, colname, i)\n",
    "        if isnan(s):\n",
    "            continue\n",
    "        dict[i] = s\n",
    "    return max(dict, key=dict.get)"
   ]
  },
  {
   "cell_type": "code",
   "execution_count": 14,
   "metadata": {},
   "outputs": [
    {
     "name": "stderr",
     "output_type": "stream",
     "text": [
      "<ipython-input-8-cadbfe0a5307>:6: RuntimeWarning: invalid value encountered in double_scalars\n",
      "  table[i][j] = table[i][j]/s\n"
     ]
    }
   ],
   "source": [
    "encode_humidity = find_threshold(df, 'Humidity')"
   ]
  },
  {
   "cell_type": "code",
   "execution_count": 15,
   "metadata": {},
   "outputs": [
    {
     "name": "stderr",
     "output_type": "stream",
     "text": [
      "<ipython-input-8-cadbfe0a5307>:6: RuntimeWarning: invalid value encountered in double_scalars\n",
      "  table[i][j] = table[i][j]/s\n"
     ]
    }
   ],
   "source": [
    "encode_temp = find_threshold(df, 'Temperature')"
   ]
  },
  {
   "cell_type": "code",
   "execution_count": 16,
   "metadata": {},
   "outputs": [],
   "source": [
    "df2 = df.reset_index(drop=True)"
   ]
  },
  {
   "cell_type": "code",
   "execution_count": 17,
   "metadata": {},
   "outputs": [],
   "source": [
    "df2.loc[df2['Humidity'] <= encode_humidity, 'Humidity'] = 0\n",
    "df2.loc[df2['Humidity'] > encode_humidity, 'Humidity'] = 1"
   ]
  },
  {
   "cell_type": "code",
   "execution_count": 18,
   "metadata": {},
   "outputs": [
    {
     "data": {
      "text/plain": [
       "array([1, 0])"
      ]
     },
     "execution_count": 18,
     "metadata": {},
     "output_type": "execute_result"
    }
   ],
   "source": [
    "df2['Humidity'].unique()"
   ]
  },
  {
   "cell_type": "code",
   "execution_count": 19,
   "metadata": {},
   "outputs": [],
   "source": [
    "df2.loc[df2['Temperature'] <= encode_temp, 'Temperature'] = 0\n",
    "df2.loc[df2['Temperature'] > encode_temp, 'Temperature'] = 1"
   ]
  },
  {
   "cell_type": "code",
   "execution_count": 20,
   "metadata": {},
   "outputs": [
    {
     "data": {
      "text/html": [
       "<div>\n",
       "<style scoped>\n",
       "    .dataframe tbody tr th:only-of-type {\n",
       "        vertical-align: middle;\n",
       "    }\n",
       "\n",
       "    .dataframe tbody tr th {\n",
       "        vertical-align: top;\n",
       "    }\n",
       "\n",
       "    .dataframe thead th {\n",
       "        text-align: right;\n",
       "    }\n",
       "</style>\n",
       "<table border=\"1\" class=\"dataframe\">\n",
       "  <thead>\n",
       "    <tr style=\"text-align: right;\">\n",
       "      <th></th>\n",
       "      <th>Outlook</th>\n",
       "      <th>Temperature</th>\n",
       "      <th>Humidity</th>\n",
       "      <th>Windy</th>\n",
       "      <th>Play</th>\n",
       "    </tr>\n",
       "  </thead>\n",
       "  <tbody>\n",
       "    <tr>\n",
       "      <th>0</th>\n",
       "      <td>sunny</td>\n",
       "      <td>1</td>\n",
       "      <td>1</td>\n",
       "      <td>False</td>\n",
       "      <td>no</td>\n",
       "    </tr>\n",
       "    <tr>\n",
       "      <th>1</th>\n",
       "      <td>sunny</td>\n",
       "      <td>0</td>\n",
       "      <td>1</td>\n",
       "      <td>True</td>\n",
       "      <td>no</td>\n",
       "    </tr>\n",
       "    <tr>\n",
       "      <th>2</th>\n",
       "      <td>overcast</td>\n",
       "      <td>0</td>\n",
       "      <td>1</td>\n",
       "      <td>False</td>\n",
       "      <td>yes</td>\n",
       "    </tr>\n",
       "    <tr>\n",
       "      <th>3</th>\n",
       "      <td>rain</td>\n",
       "      <td>0</td>\n",
       "      <td>1</td>\n",
       "      <td>False</td>\n",
       "      <td>yes</td>\n",
       "    </tr>\n",
       "    <tr>\n",
       "      <th>4</th>\n",
       "      <td>rain</td>\n",
       "      <td>0</td>\n",
       "      <td>1</td>\n",
       "      <td>False</td>\n",
       "      <td>yes</td>\n",
       "    </tr>\n",
       "  </tbody>\n",
       "</table>\n",
       "</div>"
      ],
      "text/plain": [
       "    Outlook  Temperature  Humidity  Windy Play\n",
       "0     sunny            1         1  False   no\n",
       "1     sunny            0         1   True   no\n",
       "2  overcast            0         1  False  yes\n",
       "3      rain            0         1  False  yes\n",
       "4      rain            0         1  False  yes"
      ]
     },
     "execution_count": 20,
     "metadata": {},
     "output_type": "execute_result"
    }
   ],
   "source": [
    "df2.head()"
   ]
  },
  {
   "cell_type": "markdown",
   "metadata": {},
   "source": [
    "> b."
   ]
  },
  {
   "cell_type": "code",
   "execution_count": 22,
   "metadata": {},
   "outputs": [],
   "source": [
    "def find_entropy(df):\n",
    "    Class=df.keys()[-1]\n",
    "    values=df[Class].unique()\n",
    "    entropy=0\n",
    "    for value in values:\n",
    "        prob=len(df[df[Class]==value])/len(df[Class])\n",
    "        entropy+=-prob*np.log2(prob)\n",
    "    return entropy"
   ]
  },
  {
   "cell_type": "code",
   "execution_count": 23,
   "metadata": {},
   "outputs": [],
   "source": [
    "def find_information_entropy(df,attribute):\n",
    "    Class=df.keys()[-1]\n",
    "    labels=df[Class].unique()\n",
    "    attr_values=df[attribute].unique()\n",
    "    avg_entropy=0\n",
    "    for value1 in attr_values:\n",
    "        entropy_subsample=0\n",
    "        for value2 in labels:\n",
    "            num=len(df[attribute][df[attribute]==value1][df[Class]==value2])\n",
    "            den=len(df[attribute][df[attribute]==value1])\n",
    "            prob=num/den\n",
    "            entropy_subsample+=-(prob*np.log2(prob+1e-7))\n",
    "        weight=den/len(df)\n",
    "        avg_entropy+=weight*entropy_subsample\n",
    "    return avg_entropy"
   ]
  },
  {
   "cell_type": "code",
   "execution_count": 24,
   "metadata": {},
   "outputs": [],
   "source": [
    "def find_split_info(df, attribute):\n",
    "    attr_values = df[attribute].unique()\n",
    "    split_info = 0\n",
    "    for value1 in attr_values:\n",
    "        den = len(df[attribute][df[attribute]==value1])\n",
    "        weight = den/len(df)\n",
    "        split_info += -1 * weight * np.log2(weight + 1e-7)\n",
    "    return split_info\n"
   ]
  },
  {
   "cell_type": "code",
   "execution_count": 25,
   "metadata": {},
   "outputs": [],
   "source": [
    "def find_winner(df):\n",
    "    GR = []\n",
    "    for attribute in df.keys()[:-1]:\n",
    "        IG = find_entropy(df)-find_information_entropy(df,attribute)\n",
    "        SI = find_split_info(df, attribute)\n",
    "        GR.append(IG/SI)\n",
    "    return df.keys()[:-1][np.argmax(GR)]"
   ]
  },
  {
   "cell_type": "code",
   "execution_count": 69,
   "metadata": {},
   "outputs": [],
   "source": [
    "def training(df,tree=None):\n",
    "    Class=df.keys()[-1]\n",
    "    df2 = df.copy()\n",
    "    if 'Humidity' in df.columns:\n",
    "        encode_humidity = find_threshold(df2, 'Humidity')\n",
    "        df2.loc[df2['Humidity'] <= encode_humidity, 'Humidity'] = 0\n",
    "        df2.loc[df2['Humidity'] > encode_humidity, 'Humidity'] = 1\n",
    "    if 'Temperature' in df.columns:\n",
    "        encode_temp = find_threshold(df2, 'Temperature')\n",
    "        df2.loc[df2['Temperature'] <= encode_temp, 'Temperature'] = 0\n",
    "        df2.loc[df2['Temperature'] > encode_temp, 'Temperature'] = 1\n",
    "    split_attr=find_winner(df2)\n",
    "    split_attr_values=df2[split_attr].unique()\n",
    "    if tree is None:\n",
    "        tree={}\n",
    "        tree[split_attr]={}\n",
    "    for value in split_attr_values:\n",
    "        sub_df=df[df2[split_attr]==value].reset_index(drop=True)\n",
    "        sub_df.drop(split_attr, axis=1, inplace=True)\n",
    "        Clvalue=sub_df[Class].unique()\n",
    "        if len(Clvalue)==1:\n",
    "            if(split_attr=='Humidity'):\n",
    "                tree[split_attr][\">\"+np.str(encode_humidity)] = Clvalue[0]\n",
    "            elif(split_attr=='Temperature'):\n",
    "                tree[split_attr][\">\"+np.str(encode_temp)] = Clvalue[0]\n",
    "            else:\n",
    "                tree[split_attr][value]=Clvalue[0]\n",
    "        else:\n",
    "            if(split_attr=='Humidity'):\n",
    "                tree[split_attr][\"<\"+np.str(encode_humidity)] = training(sub_df)\n",
    "            elif(split_attr=='Temperature'):\n",
    "                tree[split_attr][\"<\"+np.str(encode_temp)] = training(sub_df)\n",
    "            else:\n",
    "                tree[split_attr][value] = training(sub_df)\n",
    "    return tree"
   ]
  },
  {
   "cell_type": "code",
   "execution_count": 70,
   "metadata": {},
   "outputs": [
    {
     "name": "stderr",
     "output_type": "stream",
     "text": [
      "<ipython-input-8-cadbfe0a5307>:6: RuntimeWarning: invalid value encountered in double_scalars\n",
      "  table[i][j] = table[i][j]/s\n",
      "<ipython-input-8-cadbfe0a5307>:6: RuntimeWarning: invalid value encountered in double_scalars\n",
      "  table[i][j] = table[i][j]/s\n",
      "<ipython-input-8-cadbfe0a5307>:6: RuntimeWarning: invalid value encountered in double_scalars\n",
      "  table[i][j] = table[i][j]/s\n",
      "<ipython-input-8-cadbfe0a5307>:6: RuntimeWarning: invalid value encountered in double_scalars\n",
      "  table[i][j] = table[i][j]/s\n",
      "<ipython-input-8-cadbfe0a5307>:6: RuntimeWarning: invalid value encountered in double_scalars\n",
      "  table[i][j] = table[i][j]/s\n"
     ]
    }
   ],
   "source": [
    "tree = training(df)"
   ]
  },
  {
   "cell_type": "code",
   "execution_count": 72,
   "metadata": {},
   "outputs": [
    {
     "name": "stdout",
     "output_type": "stream",
     "text": [
      "Temperature:\n",
      "  >83:\n",
      "    'no'\n",
      "  <83:\n",
      "    Outlook:\n",
      "      sunny:\n",
      "        Humidity:\n",
      "          >70:\n",
      "            'yes'\n",
      "      overcast:\n",
      "        'yes'\n",
      "      rain:\n",
      "        Windy:\n",
      "          False:\n",
      "            'yes'\n",
      "          True:\n",
      "            'no'\n"
     ]
    }
   ],
   "source": [
    "def visualize(root, indent=0):\n",
    "    if type(root) == dict:\n",
    "        for k, v in root.items():\n",
    "            print(\" \"*indent + f\"{k}:\")\n",
    "            visualize(v, indent+2)\n",
    "    else:\n",
    "        print(\" \"*indent + repr(root))\n",
    "visualize(tree)"
   ]
  },
  {
   "cell_type": "markdown",
   "metadata": {},
   "source": [
    "> c"
   ]
  },
  {
   "cell_type": "code",
   "execution_count": 76,
   "metadata": {},
   "outputs": [],
   "source": [
    "def two_best_attr(df):\n",
    "    GR = []\n",
    "    for attribute in df.keys()[:-1]:\n",
    "        IG = find_entropy(df)-find_information_entropy(df,attribute)\n",
    "        SI = find_split_info(df, attribute)\n",
    "        GR.append(IG/SI)\n",
    "    col1 = df.keys()[:-1][np.argmax(GR)]\n",
    "    GR.pop(np.argmax(GR))\n",
    "    col2 = df.keys()[:-1][np.argmax(GR)]\n",
    "    return (col1, col2)"
   ]
  },
  {
   "cell_type": "code",
   "execution_count": 77,
   "metadata": {},
   "outputs": [
    {
     "data": {
      "text/plain": [
       "('Temperature', 'Outlook')"
      ]
     },
     "execution_count": 77,
     "metadata": {},
     "output_type": "execute_result"
    }
   ],
   "source": [
    "two_best_attr(df2)"
   ]
  },
  {
   "cell_type": "markdown",
   "metadata": {},
   "source": [
    "> d"
   ]
  },
  {
   "cell_type": "code",
   "execution_count": 82,
   "metadata": {},
   "outputs": [],
   "source": [
    "from sklearn.preprocessing import LabelEncoder\n",
    "outlook = LabelEncoder().fit_transform(df['Outlook'])\n",
    "play = LabelEncoder().fit_transform(df['Play'])"
   ]
  },
  {
   "cell_type": "code",
   "execution_count": 95,
   "metadata": {},
   "outputs": [
    {
     "name": "stdout",
     "output_type": "stream",
     "text": [
      "Play Label doesnot depends upon outlook under 95% confidence level\n"
     ]
    }
   ],
   "source": [
    "from scipy.stats import chi2_contingency\n",
    "\n",
    "data = [outlook, play]\n",
    "stat, p, dof, expected = chi2_contingency(data)\n",
    "alpha = 0.05\n",
    "if p <= alpha:\n",
    "    print('Play Label depends upon outlook under 95% confidence Level')\n",
    "else:\n",
    "    print('Play Label doesnot depends upon outlook under 95% confidence level')"
   ]
  },
  {
   "cell_type": "code",
   "execution_count": 94,
   "metadata": {},
   "outputs": [
    {
     "data": {
      "text/plain": [
       "(11.91111111111111,\n",
       " 0.53494591833807,\n",
       " 13,\n",
       " array([[1.25 , 1.25 , 0.625, 1.25 , 1.25 , 0.625, 0.625, 1.25 , 1.875,\n",
       "         1.25 , 1.875, 0.625, 0.625, 0.625],\n",
       "        [0.75 , 0.75 , 0.375, 0.75 , 0.75 , 0.375, 0.375, 0.75 , 1.125,\n",
       "         0.75 , 1.125, 0.375, 0.375, 0.375]]))"
      ]
     },
     "execution_count": 94,
     "metadata": {},
     "output_type": "execute_result"
    }
   ],
   "source": [
    "chi2_contingency(data)"
   ]
  },
  {
   "cell_type": "markdown",
   "metadata": {},
   "source": [
    "### Question 2"
   ]
  },
  {
   "cell_type": "code",
   "execution_count": 97,
   "metadata": {},
   "outputs": [],
   "source": [
    "from collections import defaultdict"
   ]
  },
  {
   "cell_type": "code",
   "execution_count": 110,
   "metadata": {},
   "outputs": [],
   "source": [
    "def pmi(df, positive=True):\n",
    "    col_totals = df.sum(axis=0)\n",
    "    total = col_totals.sum()\n",
    "    row_totals = df.sum(axis=1)\n",
    "    expected = np.outer(row_totals, col_totals) / total\n",
    "    df = df / expected\n",
    "    # Silence distracting warnings about log(0):\n",
    "    with np.errstate(divide='ignore'):\n",
    "        df = np.log(df)\n",
    "    df[np.isinf(df)] = 0.0  # log(0) = 0\n",
    "    if positive:\n",
    "        df[df < 0] = 0.0\n",
    "    return df"
   ]
  },
  {
   "cell_type": "code",
   "execution_count": 100,
   "metadata": {},
   "outputs": [],
   "source": [
    "df = pd.read_csv('./IMDB_Dataset.csv')\n",
    "corpus = np.array(df['review'])\n",
    "corpus = corpus[:100].tolist()"
   ]
  },
  {
   "cell_type": "code",
   "execution_count": 105,
   "metadata": {},
   "outputs": [],
   "source": [
    "lower = []\n",
    "for i in corpus:\n",
    "    lower.append(' '.join([word.lower() for word in i.split()]))\n",
    "alpha = []\n",
    "for i in lower:\n",
    "    alpha.append(' '.join([word for word in i.split() if word.isalpha()]))\n",
    "\n",
    "tokenize = []\n",
    "from nltk.tokenize import word_tokenize\n",
    "for i in alpha:\n",
    "    tokenize.append(word_tokenize(i))\n",
    "\n",
    "import nltk\n",
    "from nltk.corpus import *\n",
    "stopword = nltk.corpus.stopwords.words('english')\n",
    "no_stop = []\n",
    "for i in tokenize:\n",
    "    no_stop.append([word for word in i if word not in stopword])\n",
    "\n",
    "final = []\n",
    "from nltk.stem import PorterStemmer\n",
    "ps = PorterStemmer()\n",
    "for i in no_stop:\n",
    "    final.append(' '.join([ps.stem(word) for word in i]))\n"
   ]
  },
  {
   "cell_type": "code",
   "execution_count": 112,
   "metadata": {},
   "outputs": [],
   "source": [
    "doc_count={}\n",
    "for i in range(len(final)):\n",
    "    word_count={}\n",
    "    for word in final[i].split():\n",
    "        if word not in word_count.keys():\n",
    "            word_count[word]=1\n",
    "    doc_count[i]=word_count\n",
    "binary_tdm_scratch=pd.DataFrame(doc_count)\n",
    "binary_tdm_scratch.fillna(0,inplace=True)"
   ]
  },
  {
   "cell_type": "code",
   "execution_count": 113,
   "metadata": {},
   "outputs": [
    {
     "data": {
      "text/html": [
       "<div>\n",
       "<style scoped>\n",
       "    .dataframe tbody tr th:only-of-type {\n",
       "        vertical-align: middle;\n",
       "    }\n",
       "\n",
       "    .dataframe tbody tr th {\n",
       "        vertical-align: top;\n",
       "    }\n",
       "\n",
       "    .dataframe thead th {\n",
       "        text-align: right;\n",
       "    }\n",
       "</style>\n",
       "<table border=\"1\" class=\"dataframe\">\n",
       "  <thead>\n",
       "    <tr style=\"text-align: right;\">\n",
       "      <th></th>\n",
       "      <th>one</th>\n",
       "      <th>review</th>\n",
       "      <th>mention</th>\n",
       "      <th>watch</th>\n",
       "      <th>oz</th>\n",
       "      <th>episod</th>\n",
       "      <th>exactli</th>\n",
       "      <th>happen</th>\n",
       "      <th>first</th>\n",
       "      <th>thing</th>\n",
       "      <th>...</th>\n",
       "      <th>spin</th>\n",
       "      <th>primari</th>\n",
       "      <th>activ</th>\n",
       "      <th>pointer</th>\n",
       "      <th>enemi</th>\n",
       "      <th>object</th>\n",
       "      <th>gripe</th>\n",
       "      <th>upsid</th>\n",
       "      <th>restart</th>\n",
       "      <th>superb</th>\n",
       "    </tr>\n",
       "  </thead>\n",
       "  <tbody>\n",
       "    <tr>\n",
       "      <th>one</th>\n",
       "      <td>0.0</td>\n",
       "      <td>2.0</td>\n",
       "      <td>2.0</td>\n",
       "      <td>16.0</td>\n",
       "      <td>1.0</td>\n",
       "      <td>2.0</td>\n",
       "      <td>5.0</td>\n",
       "      <td>4.0</td>\n",
       "      <td>13.0</td>\n",
       "      <td>13.0</td>\n",
       "      <td>...</td>\n",
       "      <td>0.0</td>\n",
       "      <td>0.0</td>\n",
       "      <td>0.0</td>\n",
       "      <td>0.0</td>\n",
       "      <td>0.0</td>\n",
       "      <td>0.0</td>\n",
       "      <td>0.0</td>\n",
       "      <td>0.0</td>\n",
       "      <td>0.0</td>\n",
       "      <td>0.0</td>\n",
       "    </tr>\n",
       "    <tr>\n",
       "      <th>review</th>\n",
       "      <td>2.0</td>\n",
       "      <td>0.0</td>\n",
       "      <td>1.0</td>\n",
       "      <td>1.0</td>\n",
       "      <td>1.0</td>\n",
       "      <td>1.0</td>\n",
       "      <td>1.0</td>\n",
       "      <td>1.0</td>\n",
       "      <td>1.0</td>\n",
       "      <td>1.0</td>\n",
       "      <td>...</td>\n",
       "      <td>0.0</td>\n",
       "      <td>0.0</td>\n",
       "      <td>0.0</td>\n",
       "      <td>0.0</td>\n",
       "      <td>0.0</td>\n",
       "      <td>0.0</td>\n",
       "      <td>0.0</td>\n",
       "      <td>0.0</td>\n",
       "      <td>0.0</td>\n",
       "      <td>0.0</td>\n",
       "    </tr>\n",
       "    <tr>\n",
       "      <th>mention</th>\n",
       "      <td>2.0</td>\n",
       "      <td>1.0</td>\n",
       "      <td>0.0</td>\n",
       "      <td>3.0</td>\n",
       "      <td>1.0</td>\n",
       "      <td>1.0</td>\n",
       "      <td>1.0</td>\n",
       "      <td>2.0</td>\n",
       "      <td>3.0</td>\n",
       "      <td>2.0</td>\n",
       "      <td>...</td>\n",
       "      <td>0.0</td>\n",
       "      <td>0.0</td>\n",
       "      <td>0.0</td>\n",
       "      <td>0.0</td>\n",
       "      <td>0.0</td>\n",
       "      <td>0.0</td>\n",
       "      <td>0.0</td>\n",
       "      <td>0.0</td>\n",
       "      <td>0.0</td>\n",
       "      <td>0.0</td>\n",
       "    </tr>\n",
       "    <tr>\n",
       "      <th>watch</th>\n",
       "      <td>16.0</td>\n",
       "      <td>1.0</td>\n",
       "      <td>3.0</td>\n",
       "      <td>0.0</td>\n",
       "      <td>1.0</td>\n",
       "      <td>1.0</td>\n",
       "      <td>1.0</td>\n",
       "      <td>3.0</td>\n",
       "      <td>6.0</td>\n",
       "      <td>5.0</td>\n",
       "      <td>...</td>\n",
       "      <td>0.0</td>\n",
       "      <td>0.0</td>\n",
       "      <td>0.0</td>\n",
       "      <td>0.0</td>\n",
       "      <td>0.0</td>\n",
       "      <td>0.0</td>\n",
       "      <td>0.0</td>\n",
       "      <td>0.0</td>\n",
       "      <td>0.0</td>\n",
       "      <td>0.0</td>\n",
       "    </tr>\n",
       "    <tr>\n",
       "      <th>oz</th>\n",
       "      <td>1.0</td>\n",
       "      <td>1.0</td>\n",
       "      <td>1.0</td>\n",
       "      <td>1.0</td>\n",
       "      <td>0.0</td>\n",
       "      <td>1.0</td>\n",
       "      <td>1.0</td>\n",
       "      <td>1.0</td>\n",
       "      <td>1.0</td>\n",
       "      <td>1.0</td>\n",
       "      <td>...</td>\n",
       "      <td>0.0</td>\n",
       "      <td>0.0</td>\n",
       "      <td>0.0</td>\n",
       "      <td>0.0</td>\n",
       "      <td>0.0</td>\n",
       "      <td>0.0</td>\n",
       "      <td>0.0</td>\n",
       "      <td>0.0</td>\n",
       "      <td>0.0</td>\n",
       "      <td>0.0</td>\n",
       "    </tr>\n",
       "    <tr>\n",
       "      <th>...</th>\n",
       "      <td>...</td>\n",
       "      <td>...</td>\n",
       "      <td>...</td>\n",
       "      <td>...</td>\n",
       "      <td>...</td>\n",
       "      <td>...</td>\n",
       "      <td>...</td>\n",
       "      <td>...</td>\n",
       "      <td>...</td>\n",
       "      <td>...</td>\n",
       "      <td>...</td>\n",
       "      <td>...</td>\n",
       "      <td>...</td>\n",
       "      <td>...</td>\n",
       "      <td>...</td>\n",
       "      <td>...</td>\n",
       "      <td>...</td>\n",
       "      <td>...</td>\n",
       "      <td>...</td>\n",
       "      <td>...</td>\n",
       "      <td>...</td>\n",
       "    </tr>\n",
       "    <tr>\n",
       "      <th>object</th>\n",
       "      <td>0.0</td>\n",
       "      <td>0.0</td>\n",
       "      <td>0.0</td>\n",
       "      <td>0.0</td>\n",
       "      <td>0.0</td>\n",
       "      <td>0.0</td>\n",
       "      <td>0.0</td>\n",
       "      <td>0.0</td>\n",
       "      <td>1.0</td>\n",
       "      <td>1.0</td>\n",
       "      <td>...</td>\n",
       "      <td>1.0</td>\n",
       "      <td>1.0</td>\n",
       "      <td>1.0</td>\n",
       "      <td>1.0</td>\n",
       "      <td>1.0</td>\n",
       "      <td>0.0</td>\n",
       "      <td>1.0</td>\n",
       "      <td>1.0</td>\n",
       "      <td>1.0</td>\n",
       "      <td>1.0</td>\n",
       "    </tr>\n",
       "    <tr>\n",
       "      <th>gripe</th>\n",
       "      <td>0.0</td>\n",
       "      <td>0.0</td>\n",
       "      <td>0.0</td>\n",
       "      <td>0.0</td>\n",
       "      <td>0.0</td>\n",
       "      <td>0.0</td>\n",
       "      <td>0.0</td>\n",
       "      <td>0.0</td>\n",
       "      <td>1.0</td>\n",
       "      <td>1.0</td>\n",
       "      <td>...</td>\n",
       "      <td>1.0</td>\n",
       "      <td>1.0</td>\n",
       "      <td>1.0</td>\n",
       "      <td>1.0</td>\n",
       "      <td>1.0</td>\n",
       "      <td>1.0</td>\n",
       "      <td>0.0</td>\n",
       "      <td>1.0</td>\n",
       "      <td>1.0</td>\n",
       "      <td>1.0</td>\n",
       "    </tr>\n",
       "    <tr>\n",
       "      <th>upsid</th>\n",
       "      <td>0.0</td>\n",
       "      <td>0.0</td>\n",
       "      <td>0.0</td>\n",
       "      <td>0.0</td>\n",
       "      <td>0.0</td>\n",
       "      <td>0.0</td>\n",
       "      <td>0.0</td>\n",
       "      <td>0.0</td>\n",
       "      <td>1.0</td>\n",
       "      <td>1.0</td>\n",
       "      <td>...</td>\n",
       "      <td>1.0</td>\n",
       "      <td>1.0</td>\n",
       "      <td>1.0</td>\n",
       "      <td>1.0</td>\n",
       "      <td>1.0</td>\n",
       "      <td>1.0</td>\n",
       "      <td>1.0</td>\n",
       "      <td>0.0</td>\n",
       "      <td>1.0</td>\n",
       "      <td>1.0</td>\n",
       "    </tr>\n",
       "    <tr>\n",
       "      <th>restart</th>\n",
       "      <td>0.0</td>\n",
       "      <td>0.0</td>\n",
       "      <td>0.0</td>\n",
       "      <td>0.0</td>\n",
       "      <td>0.0</td>\n",
       "      <td>0.0</td>\n",
       "      <td>0.0</td>\n",
       "      <td>0.0</td>\n",
       "      <td>1.0</td>\n",
       "      <td>1.0</td>\n",
       "      <td>...</td>\n",
       "      <td>1.0</td>\n",
       "      <td>1.0</td>\n",
       "      <td>1.0</td>\n",
       "      <td>1.0</td>\n",
       "      <td>1.0</td>\n",
       "      <td>1.0</td>\n",
       "      <td>1.0</td>\n",
       "      <td>1.0</td>\n",
       "      <td>0.0</td>\n",
       "      <td>1.0</td>\n",
       "    </tr>\n",
       "    <tr>\n",
       "      <th>superb</th>\n",
       "      <td>0.0</td>\n",
       "      <td>0.0</td>\n",
       "      <td>0.0</td>\n",
       "      <td>0.0</td>\n",
       "      <td>0.0</td>\n",
       "      <td>0.0</td>\n",
       "      <td>0.0</td>\n",
       "      <td>0.0</td>\n",
       "      <td>1.0</td>\n",
       "      <td>1.0</td>\n",
       "      <td>...</td>\n",
       "      <td>1.0</td>\n",
       "      <td>1.0</td>\n",
       "      <td>1.0</td>\n",
       "      <td>1.0</td>\n",
       "      <td>1.0</td>\n",
       "      <td>1.0</td>\n",
       "      <td>1.0</td>\n",
       "      <td>1.0</td>\n",
       "      <td>1.0</td>\n",
       "      <td>0.0</td>\n",
       "    </tr>\n",
       "  </tbody>\n",
       "</table>\n",
       "<p>2982 rows × 2982 columns</p>\n",
       "</div>"
      ],
      "text/plain": [
       "          one  review  mention  watch   oz  episod  exactli  happen  first  \\\n",
       "one       0.0     2.0      2.0   16.0  1.0     2.0      5.0     4.0   13.0   \n",
       "review    2.0     0.0      1.0    1.0  1.0     1.0      1.0     1.0    1.0   \n",
       "mention   2.0     1.0      0.0    3.0  1.0     1.0      1.0     2.0    3.0   \n",
       "watch    16.0     1.0      3.0    0.0  1.0     1.0      1.0     3.0    6.0   \n",
       "oz        1.0     1.0      1.0    1.0  0.0     1.0      1.0     1.0    1.0   \n",
       "...       ...     ...      ...    ...  ...     ...      ...     ...    ...   \n",
       "object    0.0     0.0      0.0    0.0  0.0     0.0      0.0     0.0    1.0   \n",
       "gripe     0.0     0.0      0.0    0.0  0.0     0.0      0.0     0.0    1.0   \n",
       "upsid     0.0     0.0      0.0    0.0  0.0     0.0      0.0     0.0    1.0   \n",
       "restart   0.0     0.0      0.0    0.0  0.0     0.0      0.0     0.0    1.0   \n",
       "superb    0.0     0.0      0.0    0.0  0.0     0.0      0.0     0.0    1.0   \n",
       "\n",
       "         thing  ...  spin  primari  activ  pointer  enemi  object  gripe  \\\n",
       "one       13.0  ...   0.0      0.0    0.0      0.0    0.0     0.0    0.0   \n",
       "review     1.0  ...   0.0      0.0    0.0      0.0    0.0     0.0    0.0   \n",
       "mention    2.0  ...   0.0      0.0    0.0      0.0    0.0     0.0    0.0   \n",
       "watch      5.0  ...   0.0      0.0    0.0      0.0    0.0     0.0    0.0   \n",
       "oz         1.0  ...   0.0      0.0    0.0      0.0    0.0     0.0    0.0   \n",
       "...        ...  ...   ...      ...    ...      ...    ...     ...    ...   \n",
       "object     1.0  ...   1.0      1.0    1.0      1.0    1.0     0.0    1.0   \n",
       "gripe      1.0  ...   1.0      1.0    1.0      1.0    1.0     1.0    0.0   \n",
       "upsid      1.0  ...   1.0      1.0    1.0      1.0    1.0     1.0    1.0   \n",
       "restart    1.0  ...   1.0      1.0    1.0      1.0    1.0     1.0    1.0   \n",
       "superb     1.0  ...   1.0      1.0    1.0      1.0    1.0     1.0    1.0   \n",
       "\n",
       "         upsid  restart  superb  \n",
       "one        0.0      0.0     0.0  \n",
       "review     0.0      0.0     0.0  \n",
       "mention    0.0      0.0     0.0  \n",
       "watch      0.0      0.0     0.0  \n",
       "oz         0.0      0.0     0.0  \n",
       "...        ...      ...     ...  \n",
       "object     1.0      1.0     1.0  \n",
       "gripe      1.0      1.0     1.0  \n",
       "upsid      0.0      1.0     1.0  \n",
       "restart    1.0      0.0     1.0  \n",
       "superb     1.0      1.0     0.0  \n",
       "\n",
       "[2982 rows x 2982 columns]"
      ]
     },
     "execution_count": 113,
     "metadata": {},
     "output_type": "execute_result"
    }
   ],
   "source": [
    "co_occur_matrix=np.dot(binary_tdm_scratch.values,binary_tdm_scratch.values.T)\n",
    "np.fill_diagonal(co_occur_matrix,0)\n",
    "co_occur_matrix=pd.DataFrame(co_occur_matrix, index=binary_tdm_scratch.index, columns=binary_tdm_scratch.index)\n",
    "co_occur_matrix"
   ]
  },
  {
   "cell_type": "code",
   "execution_count": 115,
   "metadata": {},
   "outputs": [],
   "source": [
    "ppmi = pmi(co_occur_matrix)"
   ]
  },
  {
   "cell_type": "code",
   "execution_count": 134,
   "metadata": {},
   "outputs": [],
   "source": [
    "data = ppmi.iloc[:500, :500]"
   ]
  },
  {
   "cell_type": "code",
   "execution_count": 141,
   "metadata": {},
   "outputs": [
    {
     "name": "stdout",
     "output_type": "stream",
     "text": [
      "(500,)\n"
     ]
    }
   ],
   "source": [
    "from numpy.linalg import svd\n",
    "\n",
    "U, S, VT = svd(data)\n",
    "\n",
    "embedding = U.dot(S)\n",
    "print(embedding.shape)"
   ]
  },
  {
   "cell_type": "markdown",
   "metadata": {},
   "source": [
    "### Question 3"
   ]
  },
  {
   "cell_type": "code",
   "execution_count": 90,
   "metadata": {},
   "outputs": [
    {
     "name": "stdout",
     "output_type": "stream",
     "text": [
      "(4, 4)\n",
      "(150, 2)\n"
     ]
    },
    {
     "data": {
      "image/png": "[encoded data removed]",
      "text/plain": [
       "<Figure size 432x288 with 1 Axes>"
      ]
     },
     "metadata": {
      "needs_background": "light"
     },
     "output_type": "display_data"
    },
    {
     "name": "stdout",
     "output_type": "stream",
     "text": [
      "Original Data Size: (150, 4) \n",
      "Modified Data Size: (150, 2)\n"
     ]
    }
   ],
   "source": [
    "import numpy as np\n",
    "import matplotlib.pyplot as plt\n",
    "from sklearn.model_selection import train_test_split\n",
    "from sklearn.datasets import load_iris\n",
    "class LDA:\n",
    "    def __init__(self, n_components=None):\n",
    "        self.n_components = n_components\n",
    "        self.eig_vectors = None\n",
    "    def transform(self,X,y):\n",
    "        height, width = X.shape\n",
    "        unique_classes = np.unique(y)\n",
    "        num_classes = len(unique_classes)\n",
    "        scatter_t = np.cov(X.T)*(height - 1)\n",
    "        scatter_w = 0\n",
    "        for i in range(num_classes):\n",
    "            class_items = np.flatnonzero(y == unique_classes[i])\n",
    "            scatter_w = scatter_w + np.cov(X[class_items].T) * (len(class_items)-1)\n",
    "        scatter_b = scatter_t - scatter_w\n",
    "        _, eig_vectors = np.linalg.eigh(np.linalg.pinv(scatter_w).dot(scatter_b))\n",
    "        print(eig_vectors.shape)\n",
    "        pc = X.dot(eig_vectors[:,::-1][:,:self.n_components])\n",
    "        print(pc.shape)\n",
    "        if self.n_components == 2:\n",
    "            if y is None:\n",
    "                plt.scatter(pc[:,0],pc[:,1])\n",
    "            else:\n",
    "                colors = ['r','g','b']\n",
    "                labels = np.unique(y)\n",
    "                for color, label in zip(colors, labels):\n",
    "                    class_data = pc[np.flatnonzero(y==label)]\n",
    "                    plt.scatter(class_data[:,0],class_data[:,1],c=color)\n",
    "            plt.show()\n",
    "        return pc\n",
    "LDA_obj = LDA(n_components=2)\n",
    "data = load_iris()\n",
    "X, y = data.data, data.target\n",
    "LDA_object = LDA(n_components=2)\n",
    "X_modified = LDA_object.transform(X, y)\n",
    "print(\"Original Data Size:\",X.shape, \"\\nModified Data Size:\", X_modified.shape)"
   ]
  },
  {
   "cell_type": "markdown",
   "metadata": {},
   "source": [
    "### Question 4"
   ]
  },
  {
   "cell_type": "markdown",
   "metadata": {},
   "source": [
    "> 1."
   ]
  },
  {
   "cell_type": "code",
   "execution_count": 337,
   "metadata": {},
   "outputs": [],
   "source": [
    "df = pd.read_csv('./imports-85.data', names=[\"symboling\", \"normalized_losses\", \"make\", \"fuel_type\", \"aspiration\",\"num_doors\", \"body_style\", \"drive_wheels\", \"engine_location\", \"wheel_base\", \"length\", \"width\", \"height\", \"curb_weight\", \"engine_type\", \"num_cylinders\", \"engine_size\", \"fuel_system\", \"bore\", \"stroke\", \"compression_ratio\", \"horsepower\", \"peak_rpm\", \"city_mpg\", \"highway_mpg\", \"price\"])"
   ]
  },
  {
   "cell_type": "code",
   "execution_count": 338,
   "metadata": {},
   "outputs": [],
   "source": [
    "df = df.replace('?', np.nan)"
   ]
  },
  {
   "cell_type": "code",
   "execution_count": 339,
   "metadata": {},
   "outputs": [
    {
     "data": {
      "text/html": [
       "<div>\n",
       "<style scoped>\n",
       "    .dataframe tbody tr th:only-of-type {\n",
       "        vertical-align: middle;\n",
       "    }\n",
       "\n",
       "    .dataframe tbody tr th {\n",
       "        vertical-align: top;\n",
       "    }\n",
       "\n",
       "    .dataframe thead th {\n",
       "        text-align: right;\n",
       "    }\n",
       "</style>\n",
       "<table border=\"1\" class=\"dataframe\">\n",
       "  <thead>\n",
       "    <tr style=\"text-align: right;\">\n",
       "      <th></th>\n",
       "      <th>symboling</th>\n",
       "      <th>normalized_losses</th>\n",
       "      <th>make</th>\n",
       "      <th>fuel_type</th>\n",
       "      <th>aspiration</th>\n",
       "      <th>num_doors</th>\n",
       "      <th>body_style</th>\n",
       "      <th>drive_wheels</th>\n",
       "      <th>engine_location</th>\n",
       "      <th>wheel_base</th>\n",
       "      <th>...</th>\n",
       "      <th>engine_size</th>\n",
       "      <th>fuel_system</th>\n",
       "      <th>bore</th>\n",
       "      <th>stroke</th>\n",
       "      <th>compression_ratio</th>\n",
       "      <th>horsepower</th>\n",
       "      <th>peak_rpm</th>\n",
       "      <th>city_mpg</th>\n",
       "      <th>highway_mpg</th>\n",
       "      <th>price</th>\n",
       "    </tr>\n",
       "  </thead>\n",
       "  <tbody>\n",
       "    <tr>\n",
       "      <th>0</th>\n",
       "      <td>3</td>\n",
       "      <td>NaN</td>\n",
       "      <td>alfa-romero</td>\n",
       "      <td>gas</td>\n",
       "      <td>std</td>\n",
       "      <td>two</td>\n",
       "      <td>convertible</td>\n",
       "      <td>rwd</td>\n",
       "      <td>front</td>\n",
       "      <td>88.6</td>\n",
       "      <td>...</td>\n",
       "      <td>130</td>\n",
       "      <td>mpfi</td>\n",
       "      <td>3.47</td>\n",
       "      <td>2.68</td>\n",
       "      <td>9.0</td>\n",
       "      <td>111</td>\n",
       "      <td>5000</td>\n",
       "      <td>21</td>\n",
       "      <td>27</td>\n",
       "      <td>13495</td>\n",
       "    </tr>\n",
       "    <tr>\n",
       "      <th>1</th>\n",
       "      <td>3</td>\n",
       "      <td>NaN</td>\n",
       "      <td>alfa-romero</td>\n",
       "      <td>gas</td>\n",
       "      <td>std</td>\n",
       "      <td>two</td>\n",
       "      <td>convertible</td>\n",
       "      <td>rwd</td>\n",
       "      <td>front</td>\n",
       "      <td>88.6</td>\n",
       "      <td>...</td>\n",
       "      <td>130</td>\n",
       "      <td>mpfi</td>\n",
       "      <td>3.47</td>\n",
       "      <td>2.68</td>\n",
       "      <td>9.0</td>\n",
       "      <td>111</td>\n",
       "      <td>5000</td>\n",
       "      <td>21</td>\n",
       "      <td>27</td>\n",
       "      <td>16500</td>\n",
       "    </tr>\n",
       "    <tr>\n",
       "      <th>2</th>\n",
       "      <td>1</td>\n",
       "      <td>NaN</td>\n",
       "      <td>alfa-romero</td>\n",
       "      <td>gas</td>\n",
       "      <td>std</td>\n",
       "      <td>two</td>\n",
       "      <td>hatchback</td>\n",
       "      <td>rwd</td>\n",
       "      <td>front</td>\n",
       "      <td>94.5</td>\n",
       "      <td>...</td>\n",
       "      <td>152</td>\n",
       "      <td>mpfi</td>\n",
       "      <td>2.68</td>\n",
       "      <td>3.47</td>\n",
       "      <td>9.0</td>\n",
       "      <td>154</td>\n",
       "      <td>5000</td>\n",
       "      <td>19</td>\n",
       "      <td>26</td>\n",
       "      <td>16500</td>\n",
       "    </tr>\n",
       "    <tr>\n",
       "      <th>3</th>\n",
       "      <td>2</td>\n",
       "      <td>164</td>\n",
       "      <td>audi</td>\n",
       "      <td>gas</td>\n",
       "      <td>std</td>\n",
       "      <td>four</td>\n",
       "      <td>sedan</td>\n",
       "      <td>fwd</td>\n",
       "      <td>front</td>\n",
       "      <td>99.8</td>\n",
       "      <td>...</td>\n",
       "      <td>109</td>\n",
       "      <td>mpfi</td>\n",
       "      <td>3.19</td>\n",
       "      <td>3.40</td>\n",
       "      <td>10.0</td>\n",
       "      <td>102</td>\n",
       "      <td>5500</td>\n",
       "      <td>24</td>\n",
       "      <td>30</td>\n",
       "      <td>13950</td>\n",
       "    </tr>\n",
       "    <tr>\n",
       "      <th>4</th>\n",
       "      <td>2</td>\n",
       "      <td>164</td>\n",
       "      <td>audi</td>\n",
       "      <td>gas</td>\n",
       "      <td>std</td>\n",
       "      <td>four</td>\n",
       "      <td>sedan</td>\n",
       "      <td>4wd</td>\n",
       "      <td>front</td>\n",
       "      <td>99.4</td>\n",
       "      <td>...</td>\n",
       "      <td>136</td>\n",
       "      <td>mpfi</td>\n",
       "      <td>3.19</td>\n",
       "      <td>3.40</td>\n",
       "      <td>8.0</td>\n",
       "      <td>115</td>\n",
       "      <td>5500</td>\n",
       "      <td>18</td>\n",
       "      <td>22</td>\n",
       "      <td>17450</td>\n",
       "    </tr>\n",
       "  </tbody>\n",
       "</table>\n",
       "<p>5 rows × 26 columns</p>\n",
       "</div>"
      ],
      "text/plain": [
       "   symboling normalized_losses         make fuel_type aspiration num_doors  \\\n",
       "0          3               NaN  alfa-romero       gas        std       two   \n",
       "1          3               NaN  alfa-romero       gas        std       two   \n",
       "2          1               NaN  alfa-romero       gas        std       two   \n",
       "3          2               164         audi       gas        std      four   \n",
       "4          2               164         audi       gas        std      four   \n",
       "\n",
       "    body_style drive_wheels engine_location  wheel_base  ...  engine_size  \\\n",
       "0  convertible          rwd           front        88.6  ...          130   \n",
       "1  convertible          rwd           front        88.6  ...          130   \n",
       "2    hatchback          rwd           front        94.5  ...          152   \n",
       "3        sedan          fwd           front        99.8  ...          109   \n",
       "4        sedan          4wd           front        99.4  ...          136   \n",
       "\n",
       "   fuel_system  bore  stroke compression_ratio horsepower  peak_rpm city_mpg  \\\n",
       "0         mpfi  3.47    2.68               9.0        111      5000       21   \n",
       "1         mpfi  3.47    2.68               9.0        111      5000       21   \n",
       "2         mpfi  2.68    3.47               9.0        154      5000       19   \n",
       "3         mpfi  3.19    3.40              10.0        102      5500       24   \n",
       "4         mpfi  3.19    3.40               8.0        115      5500       18   \n",
       "\n",
       "  highway_mpg  price  \n",
       "0          27  13495  \n",
       "1          27  16500  \n",
       "2          26  16500  \n",
       "3          30  13950  \n",
       "4          22  17450  \n",
       "\n",
       "[5 rows x 26 columns]"
      ]
     },
     "execution_count": 339,
     "metadata": {},
     "output_type": "execute_result"
    }
   ],
   "source": [
    "df.head()"
   ]
  },
  {
   "cell_type": "markdown",
   "metadata": {},
   "source": [
    "> 2."
   ]
  },
  {
   "cell_type": "code",
   "execution_count": 340,
   "metadata": {},
   "outputs": [],
   "source": [
    "df = df.dropna(subset=['price'])"
   ]
  },
  {
   "cell_type": "code",
   "execution_count": 341,
   "metadata": {},
   "outputs": [],
   "source": [
    "from sklearn.preprocessing import LabelEncoder"
   ]
  },
  {
   "cell_type": "code",
   "execution_count": 342,
   "metadata": {},
   "outputs": [],
   "source": [
    "for col in df.columns:\n",
    "    if(np.dtype(df[col])!='object'):\n",
    "        df.loc[df[col]==np.nan, col] = np.median(df[col])"
   ]
  },
  {
   "cell_type": "markdown",
   "metadata": {},
   "source": [
    "> 3."
   ]
  },
  {
   "cell_type": "code",
   "execution_count": 343,
   "metadata": {},
   "outputs": [],
   "source": [
    "from sklearn.ensemble import IsolationForest"
   ]
  },
  {
   "cell_type": "code",
   "execution_count": 344,
   "metadata": {},
   "outputs": [
    {
     "data": {
      "text/plain": [
       "dtype('float64')"
      ]
     },
     "execution_count": 344,
     "metadata": {},
     "output_type": "execute_result"
    }
   ],
   "source": [
    "np.dtype(df['length'])"
   ]
  },
  {
   "cell_type": "code",
   "execution_count": 345,
   "metadata": {},
   "outputs": [
    {
     "data": {
      "text/plain": [
       "IsolationForest(random_state=42)"
      ]
     },
     "execution_count": 345,
     "metadata": {},
     "output_type": "execute_result"
    }
   ],
   "source": [
    "forest = IsolationForest(random_state=42)\n",
    "forest.fit(np.array(df['length']).reshape(-1, 1))"
   ]
  },
  {
   "cell_type": "code",
   "execution_count": 346,
   "metadata": {},
   "outputs": [],
   "source": [
    "arr = forest.predict(np.array(df['length']).reshape(-1, 1))"
   ]
  },
  {
   "cell_type": "code",
   "execution_count": 347,
   "metadata": {},
   "outputs": [],
   "source": [
    "df = df.reset_index(drop=True)"
   ]
  },
  {
   "cell_type": "code",
   "execution_count": 348,
   "metadata": {},
   "outputs": [],
   "source": [
    "for i in range(len(arr)):\n",
    "    if(arr[i]==-1):\n",
    "        df.drop(i, axis=0, inplace=True)"
   ]
  },
  {
   "cell_type": "code",
   "execution_count": 349,
   "metadata": {},
   "outputs": [
    {
     "name": "stdout",
     "output_type": "stream",
     "text": [
      "<class 'pandas.core.frame.DataFrame'>\n",
      "Int64Index: 154 entries, 0 to 200\n",
      "Data columns (total 26 columns):\n",
      " #   Column             Non-Null Count  Dtype  \n",
      "---  ------             --------------  -----  \n",
      " 0   symboling          154 non-null    float64\n",
      " 1   normalized_losses  134 non-null    object \n",
      " 2   make               154 non-null    object \n",
      " 3   fuel_type          154 non-null    object \n",
      " 4   aspiration         154 non-null    object \n",
      " 5   num_doors          152 non-null    object \n",
      " 6   body_style         154 non-null    object \n",
      " 7   drive_wheels       154 non-null    object \n",
      " 8   engine_location    154 non-null    object \n",
      " 9   wheel_base         154 non-null    float64\n",
      " 10  length             154 non-null    float64\n",
      " 11  width              154 non-null    float64\n",
      " 12  height             154 non-null    float64\n",
      " 13  curb_weight        154 non-null    float64\n",
      " 14  engine_type        154 non-null    object \n",
      " 15  num_cylinders      154 non-null    object \n",
      " 16  engine_size        154 non-null    float64\n",
      " 17  fuel_system        154 non-null    object \n",
      " 18  bore               150 non-null    object \n",
      " 19  stroke             150 non-null    object \n",
      " 20  compression_ratio  154 non-null    float64\n",
      " 21  horsepower         153 non-null    object \n",
      " 22  peak_rpm           153 non-null    object \n",
      " 23  city_mpg           154 non-null    float64\n",
      " 24  highway_mpg        154 non-null    float64\n",
      " 25  price              154 non-null    object \n",
      "dtypes: float64(10), object(16)\n",
      "memory usage: 32.5+ KB\n"
     ]
    }
   ],
   "source": [
    "df.info()"
   ]
  },
  {
   "cell_type": "markdown",
   "metadata": {},
   "source": [
    "> 4."
   ]
  },
  {
   "cell_type": "code",
   "execution_count": 350,
   "metadata": {},
   "outputs": [],
   "source": [
    "df = df.reset_index(drop=True)"
   ]
  },
  {
   "cell_type": "code",
   "execution_count": 351,
   "metadata": {},
   "outputs": [],
   "source": [
    "# i.\n",
    "help_dict = {\n",
    "    'one': 1,\n",
    "    'two': 2,\n",
    "    'three': 3,\n",
    "    'four': 4,\n",
    "    'five': 5,\n",
    "    'six': 6,\n",
    "    'seven': 7,\n",
    "    'eight': 8,\n",
    "    'nine': 9,\n",
    "    'zero': 0,\n",
    "    np.nan: np.nan\n",
    "}\n",
    "num_doors = [help_dict[word] for word in df['num_doors']]\n",
    "num_cylinders = [help_dict[word] for word in df['num_cylinders']]\n",
    "df['num_doors'] = num_doors\n",
    "df['num_cylinders'] = num_cylinders"
   ]
  },
  {
   "cell_type": "code",
   "execution_count": 352,
   "metadata": {},
   "outputs": [],
   "source": [
    "# ii.\n",
    "body_style = pd.get_dummies(df['body_style'])\n",
    "drive_wheels = pd.get_dummies(df['drive_wheels'])\n",
    "df = pd.concat([df, body_style], axis=1)\n",
    "df = pd.concat([df, drive_wheels], axis=1)\n",
    "df.drop('body_style', axis=1, inplace=True)\n",
    "df.drop('drive_wheels', axis=1, inplace=True)"
   ]
  },
  {
   "cell_type": "code",
   "execution_count": 353,
   "metadata": {},
   "outputs": [],
   "source": [
    "# iii.\n",
    "from sklearn.preprocessing import LabelEncoder\n",
    "li = [\"make\", \"aspiration\", \"engine_location\",\"fuel_type\"]\n",
    "for l in li:\n",
    "    df[l] = LabelEncoder().fit_transform(df[l])"
   ]
  },
  {
   "cell_type": "code",
   "execution_count": 354,
   "metadata": {},
   "outputs": [],
   "source": [
    "# iv.\n",
    "df.loc[df['fuel_system']!='pfi', 'fuel_system'] = 0\n",
    "df.loc[df['fuel_system']=='pfi', 'fuel_system'] = 1\n",
    "df.loc[df['engine_type']!='ohc', 'engine_type'] = 0\n",
    "df.loc[df['engine_type']=='ohc', 'engine_type'] = 1"
   ]
  },
  {
   "cell_type": "markdown",
   "metadata": {},
   "source": [
    "> Continuing pre-processing of some object columns which were meant to be float"
   ]
  },
  {
   "cell_type": "code",
   "execution_count": 393,
   "metadata": {},
   "outputs": [],
   "source": [
    "for col in df.columns:\n",
    "    if(np.dtype(df[col])=='object'):\n",
    "        df[col] = pd.to_numeric(df[col], errors='coerce').astype('float64')"
   ]
  },
  {
   "cell_type": "code",
   "execution_count": 363,
   "metadata": {},
   "outputs": [],
   "source": [
    "df = df.reset_index(drop=True)"
   ]
  },
  {
   "cell_type": "code",
   "execution_count": 396,
   "metadata": {},
   "outputs": [],
   "source": [
    "for col in df.columns:\n",
    "    val = np.median(df.loc[df[col].isna() == False, col])\n",
    "    df.loc[df[col].isna(), col] = val"
   ]
  },
  {
   "cell_type": "markdown",
   "metadata": {},
   "source": [
    "> 5."
   ]
  },
  {
   "cell_type": "code",
   "execution_count": 399,
   "metadata": {},
   "outputs": [],
   "source": [
    "X = df.drop('price', axis=1)\n",
    "y = df['price']"
   ]
  },
  {
   "cell_type": "code",
   "execution_count": 400,
   "metadata": {},
   "outputs": [],
   "source": [
    "from sklearn.preprocessing import StandardScaler"
   ]
  },
  {
   "cell_type": "code",
   "execution_count": 401,
   "metadata": {},
   "outputs": [],
   "source": [
    "X_scaled = StandardScaler().fit_transform(X)"
   ]
  },
  {
   "cell_type": "code",
   "execution_count": 402,
   "metadata": {},
   "outputs": [
    {
     "name": "stdout",
     "output_type": "stream",
     "text": [
      "[[ 1.62693313 -0.10819573 -1.99360179 ... -0.23408229 -1.20185043\n",
      "   1.34164079]\n",
      " [ 1.62693313 -0.10819573 -1.99360179 ... -0.23408229 -1.20185043\n",
      "   1.34164079]\n",
      " [ 0.08510112 -0.10819573 -1.99360179 ... -0.23408229 -1.20185043\n",
      "   1.34164079]\n",
      " ...\n",
      " [-1.4567309  -0.81656778  1.36787276 ... -0.23408229 -1.20185043\n",
      "   1.34164079]\n",
      " [-1.4567309  -0.81656778  1.36787276 ... -0.23408229 -1.20185043\n",
      "   1.34164079]\n",
      " [-1.4567309  -0.81656778  1.36787276 ... -0.23408229 -1.20185043\n",
      "   1.34164079]]\n"
     ]
    }
   ],
   "source": [
    "print(X_scaled)"
   ]
  },
  {
   "cell_type": "code",
   "execution_count": null,
   "metadata": {},
   "outputs": [],
   "source": []
  }
 ],
 "metadata": {
  "kernelspec": {
   "display_name": "Python 3.8.8 ('base')",
   "language": "python",
   "name": "python3"
  },
  "language_info": {
   "codemirror_mode": {
    "name": "ipython",
    "version": 3
   },
   "file_extension": ".py",
   "mimetype": "text/x-python",
   "name": "python",
   "nbconvert_exporter": "python",
   "pygments_lexer": "ipython3",
   "version": "3.8.8"
  },
  "orig_nbformat": 4,
  "vscode": {
   "interpreter": {
    "hash": "40d3a090f54c6569ab1632332b64b2c03c39dcf918b08424e98f38b5ae0af88f"
   }
  }
 },
 "nbformat": 4,
 "nbformat_minor": 2
}
