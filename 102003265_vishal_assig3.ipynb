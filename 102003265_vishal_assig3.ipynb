{
 "cells": [
  {
   "cell_type": "markdown",
   "metadata": {},
   "source": [
    "# Assignment 3 (Conversational AI)\n",
    "> This assignment is solved by:-\n",
    "* Name: Vishal Sehgal\n",
    "* Group: CO11\n",
    "* Roll Number: 102003265"
   ]
  },
  {
   "cell_type": "markdown",
   "metadata": {},
   "source": [
    "### Question 1"
   ]
  },
  {
   "cell_type": "code",
   "execution_count": 1,
   "metadata": {},
   "outputs": [],
   "source": [
    "import requests\n",
    "from bs4 import BeautifulSoup"
   ]
  },
  {
   "cell_type": "markdown",
   "metadata": {},
   "source": [
    "> Extracting links for the books on the first two pages"
   ]
  },
  {
   "cell_type": "code",
   "execution_count": 2,
   "metadata": {},
   "outputs": [],
   "source": [
    "def get_data(pageno):\n",
    "    url = \"https://www.amazon.in/gp/bestsellers/books/ref=zg_bs_pg_\"+str(pageno)+\"?ie=UTF8&pg=\"+str(pageno)\n",
    "    r = requests.get(url)\n",
    "    soup = BeautifulSoup(r.content, 'html.parser')\n",
    "    complete = []\n",
    "    for d in soup.find_all('div', attrs={'class': \"p13n-sc-uncoverable-faceout\"}):\n",
    "        link=d.find('a',attrs={'class':\"a-link-normal\"})\n",
    "        sub=[]\n",
    "        if link is not None:\n",
    "            l = 'https://www.amazon.in'+link.get('href')\n",
    "            sub.append(l)\n",
    "        else:\n",
    "            sub.append('NaN')\n",
    "        complete.append(sub)\n",
    "    return complete"
   ]
  },
  {
   "cell_type": "code",
   "execution_count": 45,
   "metadata": {},
   "outputs": [],
   "source": [
    "number_of_pages = 2\n",
    "result = []\n",
    "for i in range(1, number_of_pages):\n",
    "  result.append(get_data(i))"
   ]
  },
  {
   "cell_type": "code",
   "execution_count": 48,
   "metadata": {},
   "outputs": [],
   "source": [
    "import numpy as np\n",
    "urls = np.array(result)\n",
    "urls = urls.flatten()"
   ]
  },
  {
   "cell_type": "markdown",
   "metadata": {},
   "source": [
    "> Extracting information from the every link in the list using selenium's webdriver"
   ]
  },
  {
   "cell_type": "code",
   "execution_count": 24,
   "metadata": {},
   "outputs": [],
   "source": [
    "from selenium import webdriver\n",
    "PATH=\"/Users/vishalsehgal/Documents/Programming/Web Scrapping/selenium/chromedriver\""
   ]
  },
  {
   "cell_type": "code",
   "execution_count": 50,
   "metadata": {},
   "outputs": [],
   "source": [
    "complete = []\n",
    "for url in urls:\n",
    "    driver = webdriver.Chrome(PATH)\n",
    "    driver.get(url)\n",
    "    search = driver.find_element_by_id(\"detailBullets_feature_div\")\n",
    "    l = search.find_elements_by_class_name(\"a-list-item\")\n",
    "    data_dict = {}\n",
    "    for i in l:\n",
    "        data = i.text.split()\n",
    "        col_index = 0\n",
    "        for i in range(len(data)):\n",
    "            if(data[i]==':'):\n",
    "                col_index = i\n",
    "                break\n",
    "        data_dict[data[0]] = \" \".join([d for d in data[col_index+1:]])\n",
    "    review_search = driver.find_element_by_id(\"cm-cr-dp-review-list\")\n",
    "    reviews = review_search.find_elements_by_class_name(\"reviewText\")\n",
    "    review = []\n",
    "    itr = 0\n",
    "    for i in reviews:\n",
    "        if(itr==3):\n",
    "            break\n",
    "        review.append(i.text)\n",
    "        itr+=1\n",
    "    sub = []\n",
    "    # i.\n",
    "    if('Publisher' in data_dict):\n",
    "        if(data_dict['Publisher'] is not None):\n",
    "            sub.append(data_dict['Publisher'])\n",
    "        else:\n",
    "            sub.append('NaN')\n",
    "    else:\n",
    "        sub.append('NaN')\n",
    "    # ii.\n",
    "    if('Language' in data_dict):\n",
    "        if(data_dict['Language'] is not None):\n",
    "            sub.append(data_dict['Language'])\n",
    "        else:\n",
    "            sub.append('NaN')\n",
    "    else:\n",
    "        sub.append('NaN')\n",
    "    # iii.\n",
    "    if('Paperback' in data_dict):\n",
    "        if(data_dict['Paperback'] is not None):\n",
    "            sub.append(data_dict['Paperback'])\n",
    "        else:\n",
    "            sub.append('NaN')\n",
    "    else:\n",
    "        sub.append('NaN')\n",
    "    # iv.\n",
    "    if('ISBN-10' in data_dict):\n",
    "        if(data_dict['ISBN-10'] is not None):\n",
    "            sub.append(data_dict['ISBN-10'])\n",
    "        else:\n",
    "            sub.append('NaN')\n",
    "    else:\n",
    "        sub.append('NaN')\n",
    "    # v.\n",
    "    if('ISBN-13' in data_dict):\n",
    "        if(data_dict['ISBN-13'] is not None):\n",
    "            sub.append(data_dict['ISBN-13'])\n",
    "        else:\n",
    "            sub.append('NaN')\n",
    "    else:\n",
    "        sub.append('NaN')\n",
    "    # vi.\n",
    "    if('Item' in data_dict):\n",
    "        if(data_dict['Item'] is not None):\n",
    "            sub.append(data_dict['Item'])\n",
    "        else:\n",
    "            sub.append('NaN')\n",
    "    else:\n",
    "        sub.append('NaN')\n",
    "    # vii.\n",
    "    if('Dimensions' in data_dict):\n",
    "        if(data_dict['Dimensions'] is not None):\n",
    "            sub.append(data_dict['Dimensions'])\n",
    "        else:\n",
    "            sub.append('NaN')\n",
    "    else:\n",
    "        sub.append('NaN')\n",
    "    # viii.\n",
    "    if(review is not None):\n",
    "        sub.append(review)\n",
    "    else:\n",
    "        sub.append('NaN')\n",
    "    complete.append(sub)\n",
    "    driver.quit()"
   ]
  },
  {
   "cell_type": "markdown",
   "metadata": {},
   "source": [
    "> Converting information into a DataFrame"
   ]
  },
  {
   "cell_type": "code",
   "execution_count": 53,
   "metadata": {},
   "outputs": [
    {
     "data": {
      "text/html": [
       "<div>\n",
       "<style scoped>\n",
       "    .dataframe tbody tr th:only-of-type {\n",
       "        vertical-align: middle;\n",
       "    }\n",
       "\n",
       "    .dataframe tbody tr th {\n",
       "        vertical-align: top;\n",
       "    }\n",
       "\n",
       "    .dataframe thead th {\n",
       "        text-align: right;\n",
       "    }\n",
       "</style>\n",
       "<table border=\"1\" class=\"dataframe\">\n",
       "  <thead>\n",
       "    <tr style=\"text-align: right;\">\n",
       "      <th></th>\n",
       "      <th>Publisher</th>\n",
       "      <th>Language</th>\n",
       "      <th>Paperback</th>\n",
       "      <th>ISBN-10</th>\n",
       "      <th>ISBN-13</th>\n",
       "      <th>Weight</th>\n",
       "      <th>Dimensions</th>\n",
       "      <th>Reviews (First Three)</th>\n",
       "    </tr>\n",
       "  </thead>\n",
       "  <tbody>\n",
       "    <tr>\n",
       "      <th>0</th>\n",
       "      <td>Simon &amp; Schuster (18 October 2022); Simon &amp; Sc...</td>\n",
       "      <td>English</td>\n",
       "      <td>352 pages</td>\n",
       "      <td>1398518174</td>\n",
       "      <td>978-1398518179</td>\n",
       "      <td>370 g</td>\n",
       "      <td>15.2 x 2.3 x 22.9 cm</td>\n",
       "      <td>[I was waiting since I had read... It End With...</td>\n",
       "    </tr>\n",
       "    <tr>\n",
       "      <th>1</th>\n",
       "      <td>HarperCollins India (3 October 2022)</td>\n",
       "      <td>English</td>\n",
       "      <td>500 pages</td>\n",
       "      <td>9356291527</td>\n",
       "      <td>978-9356291522</td>\n",
       "      <td>370 g</td>\n",
       "      <td>20.3 x 25.4 x 4.7 cm</td>\n",
       "      <td>[The fourth book of the Ram Chandra series has...</td>\n",
       "    </tr>\n",
       "    <tr>\n",
       "      <th>2</th>\n",
       "      <td>Random House Business Books (30 October 2018)</td>\n",
       "      <td>English</td>\n",
       "      <td>288 pages</td>\n",
       "      <td>1847941834</td>\n",
       "      <td>978-1847941831</td>\n",
       "      <td>419 g</td>\n",
       "      <td>15.3 x 2.3 x 23.4 cm</td>\n",
       "      <td>[1. Don't set Goals : Writer kehte he ki goal ...</td>\n",
       "    </tr>\n",
       "    <tr>\n",
       "      <th>3</th>\n",
       "      <td>Random House UK (27 September 2017)</td>\n",
       "      <td>English</td>\n",
       "      <td>NaN</td>\n",
       "      <td>178633089X</td>\n",
       "      <td>978-1786330895</td>\n",
       "      <td>247 g</td>\n",
       "      <td>13.6 x 2.3 x 18.4 cm</td>\n",
       "      <td>[It is a very good book to read and go through...</td>\n",
       "    </tr>\n",
       "    <tr>\n",
       "      <th>4</th>\n",
       "      <td>Jaico Publishing House (1 September 2020); Jai...</td>\n",
       "      <td>English</td>\n",
       "      <td>252 pages</td>\n",
       "      <td>9390166268</td>\n",
       "      <td>978-9390166268</td>\n",
       "      <td>220 g</td>\n",
       "      <td>20.3 x 25.4 x 4.7 cm</td>\n",
       "      <td>[It has all necessary and fundamental thought ...</td>\n",
       "    </tr>\n",
       "  </tbody>\n",
       "</table>\n",
       "</div>"
      ],
      "text/plain": [
       "                                           Publisher Language  Paperback  \\\n",
       "0  Simon & Schuster (18 October 2022); Simon & Sc...  English  352 pages   \n",
       "1               HarperCollins India (3 October 2022)  English  500 pages   \n",
       "2      Random House Business Books (30 October 2018)  English  288 pages   \n",
       "3                Random House UK (27 September 2017)  English        NaN   \n",
       "4  Jaico Publishing House (1 September 2020); Jai...  English  252 pages   \n",
       "\n",
       "      ISBN-10         ISBN-13 Weight            Dimensions  \\\n",
       "0  1398518174  978-1398518179  370 g  15.2 x 2.3 x 22.9 cm   \n",
       "1  9356291527  978-9356291522  370 g  20.3 x 25.4 x 4.7 cm   \n",
       "2  1847941834  978-1847941831  419 g  15.3 x 2.3 x 23.4 cm   \n",
       "3  178633089X  978-1786330895  247 g  13.6 x 2.3 x 18.4 cm   \n",
       "4  9390166268  978-9390166268  220 g  20.3 x 25.4 x 4.7 cm   \n",
       "\n",
       "                               Reviews (First Three)  \n",
       "0  [I was waiting since I had read... It End With...  \n",
       "1  [The fourth book of the Ram Chandra series has...  \n",
       "2  [1. Don't set Goals : Writer kehte he ki goal ...  \n",
       "3  [It is a very good book to read and go through...  \n",
       "4  [It has all necessary and fundamental thought ...  "
      ]
     },
     "execution_count": 53,
     "metadata": {},
     "output_type": "execute_result"
    }
   ],
   "source": [
    "import pandas as pd\n",
    "df = pd.DataFrame(complete, columns=['Publisher', 'Language', 'Paperback', 'ISBN-10', 'ISBN-13', 'Weight', 'Dimensions', 'Reviews (First Three)'])\n",
    "df.head()"
   ]
  },
  {
   "cell_type": "markdown",
   "metadata": {},
   "source": [
    "> Saving information as .csv file"
   ]
  },
  {
   "cell_type": "code",
   "execution_count": 56,
   "metadata": {},
   "outputs": [],
   "source": [
    "df.to_csv('amazon_top_books.csv', index=False)"
   ]
  },
  {
   "cell_type": "markdown",
   "metadata": {},
   "source": [
    "### Question 2"
   ]
  },
  {
   "cell_type": "code",
   "execution_count": null,
   "metadata": {},
   "outputs": [],
   "source": []
  },
  {
   "cell_type": "code",
   "execution_count": null,
   "metadata": {},
   "outputs": [],
   "source": []
  }
 ],
 "metadata": {
  "kernelspec": {
   "display_name": "Python 3.8.8",
   "language": "python",
   "name": "python3"
  },
  "language_info": {
   "codemirror_mode": {
    "name": "ipython",
    "version": 3
   },
   "file_extension": ".py",
   "mimetype": "text/x-python",
   "name": "python",
   "nbconvert_exporter": "python",
   "pygments_lexer": "ipython3",
   "version": "3.8.8"
  },
  "orig_nbformat": 4,
  "vscode": {
   "interpreter": {
    "hash": "40d3a090f54c6569ab1632332b64b2c03c39dcf918b08424e98f38b5ae0af88f"
   }
  }
 },
 "nbformat": 4,
 "nbformat_minor": 2
}
